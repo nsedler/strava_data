{
 "cells": [
  {
   "cell_type": "code",
   "execution_count": 12,
   "metadata": {},
   "outputs": [],
   "source": [
    "import pandas as pd\n",
    "import matplotlib.pyplot as plt\n",
    "from stravalib import unithelper\n",
    "import seaborn as sea"
   ]
  },
  {
   "cell_type": "code",
   "execution_count": 13,
   "metadata": {},
   "outputs": [],
   "source": [
    "df = pd.read_csv(\"data/activities.csv\")\n"
   ]
  },
  {
   "attachments": {},
   "cell_type": "markdown",
   "metadata": {},
   "source": [
    "## Clean up data"
   ]
  },
  {
   "cell_type": "code",
   "execution_count": 14,
   "metadata": {},
   "outputs": [],
   "source": [
    "# sorts values by date (descending order) then drops duplicates\n",
    "df.sort_values(by=\"start_date_local\", ascending=False, inplace=True)\n",
    "df.drop_duplicates(subset=[\"start_date_local\"], inplace=True)\n"
   ]
  },
  {
   "cell_type": "code",
   "execution_count": 15,
   "metadata": {},
   "outputs": [],
   "source": [
    "# Resets index then drops classic Unnamed: 0 row\n",
    "df.reset_index(drop=True, inplace=True)\n",
    "df.drop(columns=['Unnamed: 0'], inplace=True)"
   ]
  },
  {
   "cell_type": "code",
   "execution_count": 16,
   "metadata": {},
   "outputs": [],
   "source": [
    "# start to convert units"
   ]
  },
  {
   "cell_type": "code",
   "execution_count": 17,
   "metadata": {},
   "outputs": [],
   "source": [
    "df[\"distance\"] = df[\"distance\"].apply(lambda x: round(x * 0.00062137, 2))"
   ]
  },
  {
   "cell_type": "code",
   "execution_count": 18,
   "metadata": {},
   "outputs": [],
   "source": [
    "df[\"average_temp\"] = df[\"average_temp\"].apply(lambda x: round((9/5 * x) + 32, 0))"
   ]
  },
  {
   "attachments": {},
   "cell_type": "markdown",
   "metadata": {},
   "source": [
    "split dfs into run and non running dfs"
   ]
  },
  {
   "cell_type": "code",
   "execution_count": 39,
   "metadata": {},
   "outputs": [],
   "source": [
    "df_nonrun = df.loc[df[\"type\"] != \"Run\"]"
   ]
  },
  {
   "cell_type": "code",
   "execution_count": 36,
   "metadata": {},
   "outputs": [],
   "source": [
    "df_run = df.loc[df[\"type\"] == \"Run\"]"
   ]
  },
  {
   "cell_type": "code",
   "execution_count": 67,
   "metadata": {},
   "outputs": [
    {
     "data": {
      "text/html": [
       "<div>\n",
       "<style scoped>\n",
       "    .dataframe tbody tr th:only-of-type {\n",
       "        vertical-align: middle;\n",
       "    }\n",
       "\n",
       "    .dataframe tbody tr th {\n",
       "        vertical-align: top;\n",
       "    }\n",
       "\n",
       "    .dataframe thead th {\n",
       "        text-align: right;\n",
       "    }\n",
       "</style>\n",
       "<table border=\"1\" class=\"dataframe\">\n",
       "  <thead>\n",
       "    <tr style=\"text-align: right;\">\n",
       "      <th></th>\n",
       "      <th>achievement_count</th>\n",
       "      <th>average_cadence</th>\n",
       "      <th>average_heartrate</th>\n",
       "      <th>average_speed</th>\n",
       "      <th>average_temp</th>\n",
       "      <th>average_watts</th>\n",
       "      <th>best_efforts</th>\n",
       "      <th>calories</th>\n",
       "      <th>device_name</th>\n",
       "      <th>distance</th>\n",
       "      <th>...</th>\n",
       "      <th>max_speed</th>\n",
       "      <th>max_watts</th>\n",
       "      <th>moving_time</th>\n",
       "      <th>name</th>\n",
       "      <th>pr_count</th>\n",
       "      <th>sport_type</th>\n",
       "      <th>start_date_local</th>\n",
       "      <th>suffer_score</th>\n",
       "      <th>type</th>\n",
       "      <th>weighted_average_watts</th>\n",
       "    </tr>\n",
       "  </thead>\n",
       "  <tbody>\n",
       "    <tr>\n",
       "      <th>0</th>\n",
       "      <td>NaN</td>\n",
       "      <td>73.9</td>\n",
       "      <td>149.9</td>\n",
       "      <td>2.126</td>\n",
       "      <td>81.0</td>\n",
       "      <td>323.3</td>\n",
       "      <td>6.0</td>\n",
       "      <td>504.0</td>\n",
       "      <td>Garmin Forerunner 265</td>\n",
       "      <td>3.20</td>\n",
       "      <td>...</td>\n",
       "      <td>3.338</td>\n",
       "      <td>506.0</td>\n",
       "      <td>2421</td>\n",
       "      <td>Lunch Run</td>\n",
       "      <td>NaN</td>\n",
       "      <td>Run</td>\n",
       "      <td>2023-06-19 11:05:57</td>\n",
       "      <td>59.0</td>\n",
       "      <td>Run</td>\n",
       "      <td>334.0</td>\n",
       "    </tr>\n",
       "    <tr>\n",
       "      <th>1</th>\n",
       "      <td>4.0</td>\n",
       "      <td>74.1</td>\n",
       "      <td>158.6</td>\n",
       "      <td>2.266</td>\n",
       "      <td>88.0</td>\n",
       "      <td>338.1</td>\n",
       "      <td>6.0</td>\n",
       "      <td>577.0</td>\n",
       "      <td>Garmin Forerunner 265</td>\n",
       "      <td>3.65</td>\n",
       "      <td>...</td>\n",
       "      <td>4.320</td>\n",
       "      <td>636.0</td>\n",
       "      <td>2590</td>\n",
       "      <td>Morning Run</td>\n",
       "      <td>1.0</td>\n",
       "      <td>Run</td>\n",
       "      <td>2023-06-17 10:57:39</td>\n",
       "      <td>84.0</td>\n",
       "      <td>Run</td>\n",
       "      <td>365.0</td>\n",
       "    </tr>\n",
       "    <tr>\n",
       "      <th>2</th>\n",
       "      <td>0.0</td>\n",
       "      <td>73.1</td>\n",
       "      <td>143.4</td>\n",
       "      <td>2.056</td>\n",
       "      <td>79.0</td>\n",
       "      <td>314.0</td>\n",
       "      <td>6.0</td>\n",
       "      <td>553.0</td>\n",
       "      <td>Garmin Forerunner 265</td>\n",
       "      <td>3.56</td>\n",
       "      <td>...</td>\n",
       "      <td>2.788</td>\n",
       "      <td>477.0</td>\n",
       "      <td>2785</td>\n",
       "      <td>Lunch Run</td>\n",
       "      <td>0.0</td>\n",
       "      <td>Run</td>\n",
       "      <td>2023-06-16 11:35:23</td>\n",
       "      <td>49.0</td>\n",
       "      <td>Run</td>\n",
       "      <td>327.0</td>\n",
       "    </tr>\n",
       "    <tr>\n",
       "      <th>3</th>\n",
       "      <td>0.0</td>\n",
       "      <td>70.7</td>\n",
       "      <td>142.5</td>\n",
       "      <td>1.952</td>\n",
       "      <td>90.0</td>\n",
       "      <td>285.2</td>\n",
       "      <td>5.0</td>\n",
       "      <td>417.0</td>\n",
       "      <td>Garmin Forerunner 265</td>\n",
       "      <td>2.74</td>\n",
       "      <td>...</td>\n",
       "      <td>2.990</td>\n",
       "      <td>442.0</td>\n",
       "      <td>2255</td>\n",
       "      <td>Lunch Run</td>\n",
       "      <td>0.0</td>\n",
       "      <td>Run</td>\n",
       "      <td>2023-06-15 11:17:08</td>\n",
       "      <td>41.0</td>\n",
       "      <td>Run</td>\n",
       "      <td>302.0</td>\n",
       "    </tr>\n",
       "    <tr>\n",
       "      <th>4</th>\n",
       "      <td>0.0</td>\n",
       "      <td>71.2</td>\n",
       "      <td>139.4</td>\n",
       "      <td>1.973</td>\n",
       "      <td>88.0</td>\n",
       "      <td>294.6</td>\n",
       "      <td>5.0</td>\n",
       "      <td>440.0</td>\n",
       "      <td>Garmin Forerunner 265</td>\n",
       "      <td>2.86</td>\n",
       "      <td>...</td>\n",
       "      <td>2.822</td>\n",
       "      <td>460.0</td>\n",
       "      <td>2336</td>\n",
       "      <td>Morning Run</td>\n",
       "      <td>0.0</td>\n",
       "      <td>Run</td>\n",
       "      <td>2023-06-14 10:24:37</td>\n",
       "      <td>35.0</td>\n",
       "      <td>Run</td>\n",
       "      <td>307.0</td>\n",
       "    </tr>\n",
       "  </tbody>\n",
       "</table>\n",
       "<p>5 rows × 26 columns</p>\n",
       "</div>"
      ],
      "text/plain": [
       "   achievement_count  average_cadence  average_heartrate  average_speed  \\\n",
       "0                NaN             73.9              149.9          2.126   \n",
       "1                4.0             74.1              158.6          2.266   \n",
       "2                0.0             73.1              143.4          2.056   \n",
       "3                0.0             70.7              142.5          1.952   \n",
       "4                0.0             71.2              139.4          1.973   \n",
       "\n",
       "   average_temp  average_watts  best_efforts  calories            device_name  \\\n",
       "0          81.0          323.3           6.0     504.0  Garmin Forerunner 265   \n",
       "1          88.0          338.1           6.0     577.0  Garmin Forerunner 265   \n",
       "2          79.0          314.0           6.0     553.0  Garmin Forerunner 265   \n",
       "3          90.0          285.2           5.0     417.0  Garmin Forerunner 265   \n",
       "4          88.0          294.6           5.0     440.0  Garmin Forerunner 265   \n",
       "\n",
       "   distance  ...  max_speed max_watts  moving_time         name pr_count  \\\n",
       "0      3.20  ...      3.338     506.0         2421    Lunch Run      NaN   \n",
       "1      3.65  ...      4.320     636.0         2590  Morning Run      1.0   \n",
       "2      3.56  ...      2.788     477.0         2785    Lunch Run      0.0   \n",
       "3      2.74  ...      2.990     442.0         2255    Lunch Run      0.0   \n",
       "4      2.86  ...      2.822     460.0         2336  Morning Run      0.0   \n",
       "\n",
       "   sport_type     start_date_local  suffer_score  type weighted_average_watts  \n",
       "0         Run  2023-06-19 11:05:57          59.0   Run                  334.0  \n",
       "1         Run  2023-06-17 10:57:39          84.0   Run                  365.0  \n",
       "2         Run  2023-06-16 11:35:23          49.0   Run                  327.0  \n",
       "3         Run  2023-06-15 11:17:08          41.0   Run                  302.0  \n",
       "4         Run  2023-06-14 10:24:37          35.0   Run                  307.0  \n",
       "\n",
       "[5 rows x 26 columns]"
      ]
     },
     "execution_count": 67,
     "metadata": {},
     "output_type": "execute_result"
    }
   ],
   "source": [
    "df.head()"
   ]
  },
  {
   "attachments": {},
   "cell_type": "markdown",
   "metadata": {},
   "source": [
    "## Graphs"
   ]
  },
  {
   "cell_type": "code",
   "execution_count": 50,
   "metadata": {},
   "outputs": [
    {
     "data": {
      "text/plain": [
       "<Axes: xlabel='gear', ylabel='index'>"
      ]
     },
     "execution_count": 50,
     "metadata": {},
     "output_type": "execute_result"
    },
    {
     "data": {
      "image/png": "[encoded data removed]",
      "text/plain": [
       "<Figure size 640x480 with 1 Axes>"
      ]
     },
     "metadata": {},
     "output_type": "display_data"
    }
   ],
   "source": [
    "shoe_counts = df[\"gear\"].value_counts().reset_index()\n",
    "sea.barplot(data=shoe_counts, x=\"gear\", y=\"index\")"
   ]
  },
  {
   "cell_type": "code",
   "execution_count": 35,
   "metadata": {},
   "outputs": [
    {
     "data": {
      "text/plain": [
       "<Axes: xlabel='distance'>"
      ]
     },
     "execution_count": 35,
     "metadata": {},
     "output_type": "execute_result"
    },
    {
     "data": {
      "image/png": "[encoded data removed]",
      "text/plain": [
       "<Figure size 640x480 with 1 Axes>"
      ]
     },
     "metadata": {},
     "output_type": "display_data"
    }
   ],
   "source": [
    "sea.boxplot(data=df_run, x=\"distance\")"
   ]
  },
  {
   "cell_type": "code",
   "execution_count": 52,
   "metadata": {},
   "outputs": [
    {
     "data": {
      "text/plain": [
       "<Axes: xlabel='suffer_score', ylabel='Count'>"
      ]
     },
     "execution_count": 52,
     "metadata": {},
     "output_type": "execute_result"
    },
    {
     "data": {
      "image/png": "[encoded data removed]",
      "text/plain": [
       "<Figure size 640x480 with 1 Axes>"
      ]
     },
     "metadata": {},
     "output_type": "display_data"
    }
   ],
   "source": [
    "sea.histplot(data=df, x='suffer_score')"
   ]
  },
  {
   "cell_type": "code",
   "execution_count": 66,
   "metadata": {},
   "outputs": [
    {
     "data": {
      "text/plain": [
       "Text(0, 0.5, 'Suffer Score')"
      ]
     },
     "execution_count": 66,
     "metadata": {},
     "output_type": "execute_result"
    },
    {
     "data": {
      "image/png": "[encoded data removed]",
      "text/plain": [
       "<Figure size 640x480 with 1 Axes>"
      ]
     },
     "metadata": {},
     "output_type": "display_data"
    }
   ],
   "source": [
    "fig, ax = plt.subplots(1)\n",
    "sea.scatterplot(data=df_run, x=\"distance\", y=\"suffer_score\", )\n",
    "ax.set_title(\"Distance and Suffer Score\")\n",
    "ax.set_xlabel(\"Distance (mi)\")\n",
    "ax.set_ylabel(\"Suffer Score\")"
   ]
  },
  {
   "cell_type": "code",
   "execution_count": null,
   "metadata": {},
   "outputs": [],
   "source": []
  },
  {
   "cell_type": "code",
   "execution_count": null,
   "metadata": {},
   "outputs": [],
   "source": []
  }
 ],
 "metadata": {
  "kernelspec": {
   "display_name": "Python 3",
   "language": "python",
   "name": "python3"
  },
  "language_info": {
   "codemirror_mode": {
    "name": "ipython",
    "version": 3
   },
   "file_extension": ".py",
   "mimetype": "text/x-python",
   "name": "python",
   "nbconvert_exporter": "python",
   "pygments_lexer": "ipython3",
   "version": "3.10.6"
  },
  "orig_nbformat": 4
 },
 "nbformat": 4,
 "nbformat_minor": 2
}
